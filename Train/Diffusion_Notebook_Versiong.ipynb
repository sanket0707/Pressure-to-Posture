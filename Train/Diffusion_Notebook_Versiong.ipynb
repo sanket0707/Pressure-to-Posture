{
 "cells": [
  {
   "cell_type": "code",
   "execution_count": 13,
   "id": "f311374e",
   "metadata": {},
   "outputs": [],
   "source": [
    "###################################################################\n",
    "############### Create Customer Dataset - Starts ##################\n",
    "###################################################################\n",
    "import torch \n",
    "\n",
    "\n",
    "\n",
    "from torch.utils.data import Dataset, DataLoader\n",
    "from torchvision import transforms\n",
    "from torchvision.transforms import functional as F\n",
    "import matplotlib.pyplot as plt\n",
    "import os\n",
    "import numpy as np\n",
    "import pandas as pd\n",
    "from PIL import Image\n",
    "import torchvision\n"
   ]
  },
  {
   "cell_type": "code",
   "execution_count": 14,
   "id": "e3beff28",
   "metadata": {},
   "outputs": [],
   "source": [
    "class PressureSensorDataset():\n",
    "    \"\"\"\n",
    "    This custom dataset class takes root directory and train flag,\n",
    "    and returns dataset training dataset if train flag is true\n",
    "    else it returns validation dataset.\n",
    "    \"\"\"\n",
    "\n",
    "    def __init__(self, data_root, train=True, image_shape=None, transform=None):\n",
    "        \"\"\"\n",
    "                init method of the class.\n",
    "\n",
    "                 Parameters:\n",
    "\n",
    "                 data_root (string): path of root directory.\n",
    "\n",
    "                 train (boolean): True for training dataset and False for test dataset.\n",
    "\n",
    "                 image_shape (int or tuple or list): [optional] int or tuple or list. Defaut is None.\n",
    "                                                     If it is not None image will resize to the given shape.\n",
    "\n",
    "                 transform (method): method that will take PIL image and transform it.\n",
    "\n",
    "                \"\"\"\n",
    "\n",
    "        # set image_resize attribute\n",
    "        if image_shape is not None:\n",
    "            if isinstance(image_shape, int):\n",
    "                self.image_shape = (image_shape, image_shape)\n",
    "\n",
    "            elif isinstance(image_shape, tuple) or isinstance(image_shape, list):\n",
    "                assert len(image_shape) == 1 or len(image_shape) == 2, 'Invalid image_shape tuple size'\n",
    "                if len(image_shape) == 1:\n",
    "                    self.image_shape = (image_shape[0], image_shape[0])\n",
    "                else:\n",
    "                    self.image_shape = image_shape\n",
    "            else:\n",
    "                raise NotImplementedError\n",
    "\n",
    "        else:\n",
    "            self.image_shape = image_shape\n",
    "\n",
    "        # set transform attribute\n",
    "        self.transform = transform\n",
    "\n",
    "        num_classes = 10\n",
    "\n",
    "        # initialize the data dictionary\n",
    "        self.data_dict = {\n",
    "            'image_path': [],\n",
    "            'label': []\n",
    "        }\n",
    "\n",
    "        # training data path, this will be used as data root if train = True\n",
    "        if train:\n",
    "            img_dir = os.path.join(data_root, '20230626_1_set_2_1')\n",
    "\n",
    "        # validation data path, this will be used as data root if train = False\n",
    "        else:\n",
    "            img_dir = os.path.join(data_root, '20230626_1_set_2_2')\n",
    "\n",
    "        for img in os.listdir(img_dir):\n",
    "            if img.endswith(\".jpg\") or img.endswith(\".png\"):\n",
    "                img_path = os.path.join(img_dir, img)\n",
    "                self.data_dict['image_path'].append(img_path)\n",
    "                self.data_dict['label'].append(1)\n",
    "\n",
    "    def __len__(self):\n",
    "        \"\"\"\n",
    "        return length of the dataset\n",
    "        \"\"\"\n",
    "        return len(self.data_dict['label'])\n",
    "\n",
    "    def __getitem__(self, idx):\n",
    "        \"\"\"\n",
    "        For given index, return images with resize and preprocessing.\n",
    "        \"\"\"\n",
    "\n",
    "        image = Image.open(self.data_dict['image_path'][idx]).convert(\"RGB\")\n",
    "\n",
    "        if self.image_shape is not None:\n",
    "            image = F.resize(image, self.image_shape)\n",
    "\n",
    "        if self.transform is not None:\n",
    "            image = self.transform(image)\n",
    "\n",
    "        target = self.data_dict['label'][idx]\n",
    "\n",
    "        return image, target\n",
    "\n",
    "\n"
   ]
  },
  {
   "cell_type": "code",
   "execution_count": 15,
   "id": "69117699",
   "metadata": {},
   "outputs": [],
   "source": [
    "data_root = r'C:\\Users\\sanke\\PycharmProjects\\Pressure-to-Posture\\Dataset\\Pressure_Image_Dataset\\Pressure_Sensor_Data'\n",
    "#data_root = r'PycharmProjects\\Pressure-to-Posture\\Dataset\\Pressure_Image_Dataset\\Pressure_Sensor_Data'\n",
    "\n",
    "preprocess = transforms.Compose([\n",
    "    transforms.Resize(256),\n",
    "    transforms.CenterCrop(224),\n",
    "    transforms.ToTensor()\n",
    "    ])\n",
    "\n",
    "test_dataset =  PressureSensorDataset(data_root, train=False, image_shape=None, transform=preprocess)\n",
    "\n"
   ]
  },
  {
   "cell_type": "code",
   "execution_count": 34,
   "id": "7fadf49b",
   "metadata": {},
   "outputs": [],
   "source": [
    "# dataloader with dataset\n",
    "test_loader = torch.utils.data.DataLoader(\n",
    "        test_dataset,\n",
    "        batch_size=20,\n",
    "        shuffle=True,\n",
    "        num_workers=0\n",
    "    )"
   ]
  },
  {
   "cell_type": "code",
   "execution_count": 39,
   "id": "f4c2b832",
   "metadata": {},
   "outputs": [
    {
     "data": {
      "image/png": "[encoded data removed]",
      "text/plain": [
       "<Figure size 1080x216 with 15 Axes>"
      ]
     },
     "metadata": {
      "needs_background": "light"
     },
     "output_type": "display_data"
    }
   ],
   "source": [
    "import matplotlib.pyplot as plt\n",
    "import torchvision.transforms as transforms\n",
    "import numpy as np\n",
    "\n",
    "# Assuming 'test_loader' is your DataLoader\n",
    "for images, labels in test_loader:\n",
    "    plt.figure(figsize=(15, 3))  # Adjust the figure size as needed\n",
    "\n",
    "    # Loop to display the first 5 images\n",
    "    for i in range(15):  # Iterate over the first five images\n",
    "        image = images[i] / 2 + 0.5  # Unnormalize\n",
    "        npimg = image.numpy()  # Convert tensor to numpy array\n",
    "        rgb_img = np.transpose(npimg, (1, 2, 0))  # Reorder the channels\n",
    "\n",
    "        plt.subplot(3, 5, i + 1)  # Create a subplot for each image\n",
    "        plt.imshow(rgb_img)\n",
    "        plt.title(f\"Label: {labels[i]}\")\n",
    "        plt.axis('off')\n",
    "\n",
    "    plt.show()\n",
    "    break  # Process only the first batch\n"
   ]
  },
  {
   "cell_type": "code",
   "execution_count": null,
   "id": "e8ef1888",
   "metadata": {},
   "outputs": [],
   "source": []
  },
  {
   "cell_type": "code",
   "execution_count": null,
   "id": "062e21c9",
   "metadata": {},
   "outputs": [],
   "source": []
  },
  {
   "cell_type": "code",
   "execution_count": 26,
   "id": "41b09dfe",
   "metadata": {},
   "outputs": [
    {
     "data": {
      "image/png": "[encoded data removed]",
      "text/plain": [
       "<Figure size 432x288 with 1 Axes>"
      ]
     },
     "metadata": {
      "needs_background": "light"
     },
     "output_type": "display_data"
    }
   ],
   "source": [
    "for images, labels in test_loader:\n",
    "    # Get the first image from the batch\n",
    "    first_image = images[11]\n",
    "\n",
    "    # Print its shape\n",
    "    #print(first_image.shape)\n",
    "\n",
    "    # Print pixel values\n",
    "    #print(first_image)\n",
    "    \n",
    "    first_image = first_image / 2 + 0.5     # Unnormalize\n",
    "    #first_image\n",
    "    \n",
    "    npimg = first_image.numpy()\n",
    "    #npimg\n",
    "    \n",
    "    # Ensure the channels are in the correct order for RGB\n",
    "    rgb_img = np.transpose(npimg, (1, 2, 0))\n",
    "\n",
    "    # Display the RGB image\n",
    "    plt.imshow(rgb_img)\n",
    "    plt.axis('off')  # Turn off axis numbers and labels\n",
    "    plt.show()\n",
    "\n",
    "    \n",
    "    # Break after the first batch\n",
    "    break"
   ]
  },
  {
   "cell_type": "code",
   "execution_count": null,
   "id": "1e4e2556",
   "metadata": {},
   "outputs": [],
   "source": []
  }
 ],
 "metadata": {
  "kernelspec": {
   "display_name": "Python 3 (ipykernel)",
   "language": "python",
   "name": "python3"
  },
  "language_info": {
   "codemirror_mode": {
    "name": "ipython",
    "version": 3
   },
   "file_extension": ".py",
   "mimetype": "text/x-python",
   "name": "python",
   "nbconvert_exporter": "python",
   "pygments_lexer": "ipython3",
   "version": "3.9.12"
  }
 },
 "nbformat": 4,
 "nbformat_minor": 5
}
